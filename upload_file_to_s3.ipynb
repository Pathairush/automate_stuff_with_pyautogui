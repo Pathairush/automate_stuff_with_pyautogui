{
 "cells": [
  {
   "cell_type": "code",
   "execution_count": 17,
   "metadata": {
    "ExecuteTime": {
     "end_time": "2021-04-17T05:50:53.581089Z",
     "start_time": "2021-04-17T05:50:53.559148Z"
    }
   },
   "outputs": [
    {
     "data": {
      "text/plain": [
       "['config.cfg']"
      ]
     },
     "execution_count": 17,
     "metadata": {},
     "output_type": "execute_result"
    }
   ],
   "source": [
    "import boto3\n",
    "import configparser\n",
    "import os\n",
    "import datetime\n",
    "\n",
    "config = configparser.ConfigParser()\n",
    "config.read('config.cfg')"
   ]
  },
  {
   "cell_type": "code",
   "execution_count": 18,
   "metadata": {
    "ExecuteTime": {
     "end_time": "2021-04-17T05:50:53.968864Z",
     "start_time": "2021-04-17T05:50:53.947961Z"
    }
   },
   "outputs": [],
   "source": [
    "import logging\n",
    "from botocore.exceptions import ClientError\n",
    "from botocore.config import Config\n",
    "\n",
    "def upload_file(file_name, bucket, object_name=None):\n",
    "    \"\"\"Upload a file to an S3 bucket\n",
    "\n",
    "    :param file_name: File to upload\n",
    "    :param bucket: Bucket to upload to\n",
    "    :param object_name: S3 object name. If not specified then file_name is used\n",
    "    :return: True if file was uploaded, else False\n",
    "    \"\"\"\n",
    "\n",
    "    # If S3 object_name was not specified, use file_name\n",
    "    if object_name is None:\n",
    "        object_name = file_name\n",
    "\n",
    "    # Upload the file\n",
    "    s3_config = Config(\n",
    "        region_name = \"ap-southeast-1\"\n",
    "    )\n",
    "    s3_client = boto3.client(\"s3\", config=s3_config,\n",
    "        aws_access_key_id = config[\"CREDENTIALS\"][\"AWS_ACCESS_KEY_ID\"],\n",
    "        aws_secret_access_key = config[\"CREDENTIALS\"][\"AWS_SECRET_ACCESS_KEY\"])\n",
    "    try:\n",
    "        response = s3_client.upload_file(file_name, bucket, object_name)\n",
    "    except ClientError as e:\n",
    "        logging.error(e)\n",
    "        return False\n",
    "    return True"
   ]
  },
  {
   "cell_type": "code",
   "execution_count": 26,
   "metadata": {
    "ExecuteTime": {
     "end_time": "2021-04-17T05:53:06.799310Z",
     "start_time": "2021-04-17T05:52:34.964714Z"
    }
   },
   "outputs": [],
   "source": [
    "for root, dirs, files in os.walk(config['PATH']['LOCAL']):\n",
    "    for file in files:\n",
    "        upload_file(os.path.join(root, file),\n",
    "                    config['PATH']['S3_BUCKET'],\n",
    "                    os.path.join( config['PATH']['S3_KEY'], root.split(\"\\\\\")[-1], file).replace('\\\\','/')\n",
    "                   )"
   ]
  }
 ],
 "metadata": {
  "kernelspec": {
   "display_name": "Python 3",
   "language": "python",
   "name": "python3"
  },
  "language_info": {
   "codemirror_mode": {
    "name": "ipython",
    "version": 3
   },
   "file_extension": ".py",
   "mimetype": "text/x-python",
   "name": "python",
   "nbconvert_exporter": "python",
   "pygments_lexer": "ipython3",
   "version": "3.8.3"
  },
  "toc": {
   "base_numbering": 1,
   "nav_menu": {},
   "number_sections": true,
   "sideBar": true,
   "skip_h1_title": false,
   "title_cell": "Table of Contents",
   "title_sidebar": "Contents",
   "toc_cell": false,
   "toc_position": {},
   "toc_section_display": true,
   "toc_window_display": false
  }
 },
 "nbformat": 4,
 "nbformat_minor": 4
}
